{
 "cells": [
  {
   "cell_type": "code",
   "execution_count": null,
   "id": "85af3d06-a324-4274-9c74-575a10d5afe1",
   "metadata": {},
   "outputs": [],
   "source": [
    "import torch\n",
    "import torch.nn.functional as F\n",
    "import matplotlib.pyplot as plt\n",
    "%matplotlib inline"
   ]
  },
  {
   "cell_type": "code",
   "execution_count": null,
   "id": "73ceb0db-dfe4-4542-958d-3a46c650463e",
   "metadata": {},
   "outputs": [
    {
     "data": {
      "text/plain": [
       "['emma', 'olivia', 'ava', 'isabella', 'sophia', 'charlotte', 'mia', 'amelia']"
      ]
     },
     "execution_count": null,
     "metadata": {},
     "output_type": "execute_result"
    }
   ],
   "source": [
    "words = open(\"names.txt\", \"r\").read().splitlines()\n",
    "words[:8]"
   ]
  },
  {
   "cell_type": "code",
   "execution_count": null,
   "id": "6f5c53e1-5da0-4a5f-a7b9-0c7d6e6d4def",
   "metadata": {},
   "outputs": [],
   "source": [
    "chars = sorted(list(set(''.join(words))))\n",
    "stoi = {s:i+1 for i,s in enumerate(chars)}\n",
    "stoi['.'] = 0\n",
    "itos = {i:s for s,i in stoi.items()}\n",
    "vocab_size = len(itos)"
   ]
  },
  {
   "cell_type": "code",
   "execution_count": null,
   "id": "fd97b194-448b-4927-a34f-15032e736ed4",
   "metadata": {},
   "outputs": [],
   "source": [
    "# training split, dev/validation split, test split\n",
    "# 80%, 10%, 10%"
   ]
  },
  {
   "cell_type": "code",
   "execution_count": null,
   "id": "9a03f64c-d64f-482e-af03-ae4202f78147",
   "metadata": {},
   "outputs": [
    {
     "name": "stdout",
     "output_type": "stream",
     "text": [
      "torch.Size([182625, 3]) torch.Size([182625])\n",
      "torch.Size([22655, 3]) torch.Size([22655])\n",
      "torch.Size([22866, 3]) torch.Size([22866])\n"
     ]
    }
   ],
   "source": [
    "block_size = 3\n",
    "  \n",
    "def build_dataset(words):\n",
    "  X, Y = [],[]\n",
    "  for w in words:\n",
    "    # print(w)\n",
    "    context = [0] * block_size\n",
    "    for ch in w + \".\":\n",
    "      ix = stoi[ch]\n",
    "      X.append(context)\n",
    "      Y.append(ix)\n",
    "      # print(''.join(itos[i] for i in context), '--->', itos[ix])\n",
    "      context = context[1:] + [ix] # crop and append\n",
    "\n",
    "  X = torch.tensor(X)\n",
    "  Y = torch.tensor(Y)\n",
    "  print(X.shape, Y.shape)\n",
    "  return X, Y\n",
    "\n",
    "import random\n",
    "random.seed(42)\n",
    "random.shuffle(words)\n",
    "n1 = int(0.8*len(words))\n",
    "n2 = int(0.9*len(words))\n",
    "\n",
    "Xtr, Ytr = build_dataset(words[:n1])\n",
    "Xdev, Ydev = build_dataset(words[n1:n2])\n",
    "Xte, Yte = build_dataset(words[n2:])"
   ]
  },
  {
   "cell_type": "code",
   "execution_count": null,
   "id": "3196cedd-869a-4d51-9e58-383b3f43f89e",
   "metadata": {},
   "outputs": [
    {
     "name": "stdout",
     "output_type": "stream",
     "text": [
      "12097\n"
     ]
    }
   ],
   "source": [
    "n_emb = 10\n",
    "n_hidden = 200\n",
    "\n",
    "g = torch.Generator().manual_seed(2147483647)\n",
    "C = torch.randn((vocab_size, n_emb)            , generator=g)\n",
    "# kaiming init\n",
    "W1 = torch.randn((n_emb * block_size, n_hidden), generator=g) * (5/3)/((n_emb * block_size)**0.5)#* 0.2\n",
    "# b1 = torch.rand(n_hidden                       , generator=g) * 0.01 #since this bias does not do anything with batch norm\n",
    "W2 = torch.randn((n_hidden, vocab_size)        , generator=g) * 0.01\n",
    "b2 = torch.rand(vocab_size                     , generator=g) * 0\n",
    "\n",
    "# Batch norm parameters\n",
    "bngain = torch.ones((1, n_hidden))\n",
    "bnbias = torch.zeros((1, n_hidden))\n",
    "bnmean_running = torch.zeros((1, n_hidden))\n",
    "bnstd_running = torch.ones((1, n_hidden))\n",
    "\n",
    "# parameters = [C, W1, W2, b1, b2, bngain, bnbias]\n",
    "parameters = [C, W1, W2, b2, bngain, bnbias]\n",
    "print(sum(p.nelement() for p in parameters))\n",
    "for p in parameters:\n",
    "  p.requires_grad = True"
   ]
  },
  {
   "cell_type": "code",
   "execution_count": null,
   "id": "1710e625-2330-4602-9ce6-0892caffdc28",
   "metadata": {},
   "outputs": [
    {
     "name": "stdout",
     "output_type": "stream",
     "text": [
      "tensor(-0.0022) tensor(1.0033)\n",
      "tensor(-0.0012) tensor(0.9948)\n"
     ]
    },
    {
     "data": {
      "image/png": "[encoded data removed]",
      "text/plain": [
       "<Figure size 1440x360 with 2 Axes>"
      ]
     },
     "metadata": {
      "needs_background": "light"
     },
     "output_type": "display_data"
    }
   ],
   "source": [
    "x = torch.randn(1000, 10)\n",
    "w = torch.randn(10, 200) / 10**0.5\n",
    "y = x @ w\n",
    "print(x.mean(), x.std())\n",
    "print(y.mean(), y.std())\n",
    "plt.figure(figsize=(20, 5))\n",
    "plt.subplot(121)\n",
    "plt.hist(x.view(-1).tolist(), 50, density=True);\n",
    "plt.subplot(122)\n",
    "plt.hist(y.view(-1).tolist(), 50, density=True);\n"
   ]
  },
  {
   "cell_type": "code",
   "execution_count": null,
   "id": "89f507c5-9f47-4fcf-bae4-289a1ca1d862",
   "metadata": {},
   "outputs": [
    {
     "name": "stdout",
     "output_type": "stream",
     "text": [
      "      0/ 200000: 3.3050\n",
      "  10000/ 200000: 2.1019\n",
      "  20000/ 200000: 2.3220\n",
      "  30000/ 200000: 2.3868\n",
      "  40000/ 200000: 1.7870\n",
      "  50000/ 200000: 2.3814\n",
      "  60000/ 200000: 2.0526\n",
      "  70000/ 200000: 2.3135\n",
      "  80000/ 200000: 1.7175\n",
      "  90000/ 200000: 2.6280\n",
      " 100000/ 200000: 2.2414\n",
      " 110000/ 200000: 1.7347\n",
      " 120000/ 200000: 2.2200\n",
      " 130000/ 200000: 1.9235\n",
      " 140000/ 200000: 2.0191\n",
      " 150000/ 200000: 1.9697\n",
      " 160000/ 200000: 1.9346\n",
      " 170000/ 200000: 1.8197\n",
      " 180000/ 200000: 1.9451\n",
      " 190000/ 200000: 1.7764\n"
     ]
    }
   ],
   "source": [
    "lossi = []\n",
    "max_steps = 200000\n",
    "batch_size = 32\n",
    "\n",
    "for i in range(max_steps):\n",
    "  # construct mini-batch\n",
    "  ix = torch.randint(0, Xtr.shape[0], (batch_size,))\n",
    "  Xb, Yb = Xtr[ix], Ytr[ix]\n",
    "  \n",
    "  # forward pass\n",
    "  emb = C[Xb]\n",
    "  embcat = emb.view(emb.shape[0], -1)\n",
    "  # Linear layer\n",
    "  hpreact = embcat @ W1 #+ b1\n",
    "  \n",
    "  # batch normalization\n",
    "  bnmeani = hpreact.mean(0, keepdim=True)\n",
    "  bnstdi = hpreact.std(0, keepdim=True)\n",
    "  hpreact = bngain * ((hpreact - bnmeani) / bnstdi) + bnbias\n",
    "  with torch.no_grad():\n",
    "    bnmean_running = 0.999 * bnmean_running + 0.001 * bnmeani\n",
    "    bnstd_running = 0.999 * bnstd_running + 0.001 * bnstdi\n",
    "  \n",
    "  # Non-Linearity\n",
    "  h = torch.tanh(hpreact)\n",
    "  logits = h @ W2 + b2\n",
    "  loss = F.cross_entropy(logits, Yb)\n",
    "\n",
    "  # backward pass\n",
    "  for p in parameters:\n",
    "    p.grad = None\n",
    "  loss.backward()\n",
    "\n",
    "  #update\n",
    "  lr = 0.1 if i < 100000 else 0.01 # lrs[i]\n",
    "  for p in parameters:\n",
    "    p.data += -lr * p.grad\n",
    "    \n",
    "  # track stats\n",
    "  if i % 10000 == 0:\n",
    "    print(f\"{i:7d}/{max_steps:7d}: {loss.item():.4f}\")\n",
    "  lossi.append(loss.log10().item())\n",
    "\n",
    "# print(loss.item())"
   ]
  },
  {
   "cell_type": "code",
   "execution_count": null,
   "id": "858ec515-a754-4b44-a7af-796806805dca",
   "metadata": {},
   "outputs": [
    {
     "data": {
      "image/png": "[encoded data removed]",
      "text/plain": [
       "<Figure size 432x288 with 1 Axes>"
      ]
     },
     "metadata": {
      "needs_background": "light"
     },
     "output_type": "display_data"
    }
   ],
   "source": [
    "plt.hist(h.view(-1).tolist(), 50);"
   ]
  },
  {
   "cell_type": "code",
   "execution_count": null,
   "id": "9bc67821-e426-4759-9431-8202f3bf4447",
   "metadata": {},
   "outputs": [
    {
     "data": {
      "image/png": "[encoded data removed]",
      "text/plain": [
       "<Figure size 432x288 with 1 Axes>"
      ]
     },
     "metadata": {
      "needs_background": "light"
     },
     "output_type": "display_data"
    }
   ],
   "source": [
    "plt.hist(hpreact.view(-1).tolist(), 50);"
   ]
  },
  {
   "cell_type": "code",
   "execution_count": null,
   "id": "99cab85c-92d4-4935-98fa-97a493c27af2",
   "metadata": {},
   "outputs": [
    {
     "data": {
      "text/plain": [
       "<matplotlib.image.AxesImage>"
      ]
     },
     "execution_count": null,
     "metadata": {},
     "output_type": "execute_result"
    },
    {
     "data": {
      "image/png": "[encoded data removed]",
      "text/plain": [
       "<Figure size 1440x720 with 1 Axes>"
      ]
     },
     "metadata": {
      "needs_background": "light"
     },
     "output_type": "display_data"
    }
   ],
   "source": [
    "plt.figure(figsize=(20, 10))\n",
    "plt.imshow(h.abs() > 0.99, cmap=\"gray\", interpolation=\"nearest\")"
   ]
  },
  {
   "cell_type": "code",
   "execution_count": null,
   "id": "620449d2-68ea-4d38-8a1e-a772a081f0b0",
   "metadata": {},
   "outputs": [
    {
     "data": {
      "text/plain": [
       "[<matplotlib.lines.Line2D>]"
      ]
     },
     "execution_count": null,
     "metadata": {},
     "output_type": "execute_result"
    },
    {
     "data": {
      "image/png": "[encoded data removed]",
      "text/plain": [
       "<Figure size 432x288 with 1 Axes>"
      ]
     },
     "metadata": {
      "needs_background": "light"
     },
     "output_type": "display_data"
    }
   ],
   "source": [
    "plt.plot(lossi)"
   ]
  },
  {
   "cell_type": "code",
   "execution_count": null,
   "id": "9c0eb542-d59e-48e1-b29c-1ff9245c7e2c",
   "metadata": {},
   "outputs": [],
   "source": [
    "# calibrate bnmean and bnstd\n",
    "\n",
    "with torch.no_grad():\n",
    "  emb = C[Xtr]\n",
    "  embcat = emb.view(emb.shape[0], -1)\n",
    "  hpreact = embcat @ W1 #+ b1\n",
    "  bnmean = hpreact.mean(0, keepdim=True)\n",
    "  bnstd = hpreact.std(0, keepdim=True)"
   ]
  },
  {
   "cell_type": "code",
   "execution_count": null,
   "id": "2fed7dcb-3d77-4a50-88ac-d9aab89ed086",
   "metadata": {},
   "outputs": [
    {
     "data": {
      "text/plain": [
       "tensor([[2.2545, 2.1398, 2.0476, 2.1038, 2.2538, 2.2605, 2.1980, 2.5163, 2.2881,\n",
       "         2.3039, 2.2750, 2.1152, 2.0418, 2.2582, 2.0147, 2.6525, 2.4520, 1.8471,\n",
       "         2.3756, 2.5333, 2.2523, 2.3539, 1.9793, 2.1140, 2.3134, 1.8738, 2.1094,\n",
       "         2.2985, 2.4959, 2.3589, 1.8162, 1.9898, 2.2293, 1.8973, 2.0547, 2.0355,\n",
       "         2.3698, 2.2216, 2.0111, 1.7562, 2.1222, 2.2688, 2.4619, 1.7629, 2.2810,\n",
       "         2.1531, 2.3883, 2.6125, 2.1320, 2.4058, 1.9583, 1.8365, 2.2034, 1.5214,\n",
       "         2.3198, 2.2862, 1.9417, 2.3337, 2.4284, 1.9202, 2.0818, 1.9287, 1.9893,\n",
       "         2.2587, 2.2761, 2.0990, 1.9423, 2.4006, 2.1325, 2.2680, 2.1358, 1.9305,\n",
       "         2.1349, 2.1697, 2.0410, 1.5480, 2.5622, 2.2810, 1.9759, 2.3433, 2.0716,\n",
       "         1.6857, 2.1422, 2.3323, 2.4691, 2.3963, 2.0392, 2.3835, 2.6876, 2.0938,\n",
       "         2.1193, 1.8514, 2.1150, 1.8643, 1.8871, 2.3287, 2.0509, 2.0318, 2.1481,\n",
       "         2.5379, 2.2942, 1.9638, 1.7842, 2.1003, 1.9655, 2.3637, 1.9616, 2.0836,\n",
       "         1.9564, 2.0464, 2.4600, 2.2020, 2.0471, 2.2529, 2.3420, 2.5127, 1.8442,\n",
       "         1.9618, 2.0403, 2.2228, 2.0770, 1.9785, 2.0410, 2.3326, 1.9887, 2.1348,\n",
       "         2.3113, 2.2819, 2.0053, 2.5483, 1.9918, 2.5986, 2.3556, 2.2475, 2.3006,\n",
       "         2.1652, 2.5046, 2.7198, 1.9046, 2.0139, 2.2173, 2.0958, 2.0631, 2.1572,\n",
       "         2.0690, 2.3465, 2.0132, 2.1091, 2.1416, 1.8734, 2.1406, 2.0477, 1.9904,\n",
       "         2.1536, 2.2814, 2.2057, 1.8369, 2.1863, 2.0693, 1.9096, 2.3811, 2.0814,\n",
       "         2.1092, 2.2772, 2.3458, 1.8113, 2.2323, 2.1291, 2.1028, 2.0637, 1.7808,\n",
       "         2.0263, 2.2010, 2.2986, 2.5233, 1.8257, 2.1417, 2.3159, 2.3730, 2.0198,\n",
       "         2.6514, 2.0371, 2.4507, 2.0030, 2.0528, 2.4832, 2.1234, 2.0590, 2.2026,\n",
       "         2.1458, 2.0358, 2.1760, 2.0203, 1.8483, 2.0515, 2.0040, 2.0319, 2.6898,\n",
       "         2.2046, 1.8365]])"
      ]
     },
     "execution_count": null,
     "metadata": {},
     "output_type": "execute_result"
    }
   ],
   "source": [
    "bnstd"
   ]
  },
  {
   "cell_type": "code",
   "execution_count": null,
   "id": "693b6633-6214-465a-b9c3-a90441274f02",
   "metadata": {},
   "outputs": [
    {
     "data": {
      "text/plain": [
       "tensor([[2.2384, 2.1162, 2.0293, 2.0742, 2.2104, 2.2364, 2.1780, 2.4987, 2.2829,\n",
       "         2.2743, 2.2506, 2.0805, 1.9968, 2.2402, 1.9893, 2.6305, 2.4278, 1.8283,\n",
       "         2.3467, 2.5130, 2.2347, 2.3111, 1.9681, 2.0858, 2.3060, 1.8647, 2.0876,\n",
       "         2.2799, 2.4758, 2.3302, 1.8001, 1.9734, 2.2213, 1.8818, 2.0380, 2.0371,\n",
       "         2.3629, 2.2097, 1.9935, 1.7368, 2.0972, 2.2447, 2.4365, 1.7457, 2.2714,\n",
       "         2.1495, 2.3805, 2.6054, 2.1211, 2.3791, 1.9395, 1.8127, 2.1844, 1.5133,\n",
       "         2.2988, 2.2607, 1.9202, 2.3188, 2.4145, 1.8968, 2.0626, 1.9111, 1.9734,\n",
       "         2.2447, 2.2498, 2.0846, 1.9258, 2.3740, 2.1169, 2.2534, 2.1137, 1.9048,\n",
       "         2.1236, 2.1409, 2.0230, 1.5376, 2.5363, 2.2585, 1.9640, 2.3182, 2.0584,\n",
       "         1.6655, 2.1120, 2.3220, 2.4489, 2.3820, 2.0195, 2.3604, 2.6627, 2.0875,\n",
       "         2.1078, 1.8201, 2.0949, 1.8578, 1.8752, 2.2964, 2.0236, 2.0180, 2.1133,\n",
       "         2.5310, 2.2848, 1.9401, 1.7675, 2.0709, 1.9438, 2.3391, 1.9377, 2.0651,\n",
       "         1.9354, 2.0303, 2.4467, 2.1902, 2.0286, 2.2148, 2.3347, 2.4881, 1.8218,\n",
       "         1.9473, 2.0314, 2.1993, 2.0765, 1.9603, 2.0220, 2.3093, 1.9819, 2.0992,\n",
       "         2.2955, 2.2548, 1.9780, 2.5285, 1.9766, 2.5781, 2.3366, 2.2327, 2.2984,\n",
       "         2.1374, 2.4750, 2.7130, 1.8789, 1.9993, 2.1953, 2.0918, 2.0407, 2.1350,\n",
       "         2.0406, 2.3304, 2.0048, 2.0938, 2.1118, 1.8574, 2.1261, 2.0205, 1.9930,\n",
       "         2.1296, 2.2527, 2.1906, 1.8199, 2.1723, 2.0567, 1.8795, 2.3681, 2.0614,\n",
       "         2.0958, 2.2594, 2.3186, 1.7885, 2.2150, 2.1199, 2.0907, 2.0509, 1.7635,\n",
       "         1.9980, 2.1766, 2.2772, 2.4949, 1.7986, 2.1268, 2.2934, 2.3675, 1.9940,\n",
       "         2.6041, 2.0117, 2.4346, 1.9856, 2.0294, 2.4583, 2.1118, 2.0451, 2.1880,\n",
       "         2.1245, 2.0108, 2.1487, 2.0020, 1.8275, 2.0316, 1.9884, 1.9951, 2.6610,\n",
       "         2.1776, 1.8098]])"
      ]
     },
     "execution_count": null,
     "metadata": {},
     "output_type": "execute_result"
    }
   ],
   "source": [
    "bnstd_running"
   ]
  },
  {
   "cell_type": "code",
   "execution_count": null,
   "id": "fab67135-67ca-4fb4-af9e-5e9813d55fd2",
   "metadata": {},
   "outputs": [
    {
     "name": "stdout",
     "output_type": "stream",
     "text": [
      "train 2.0669748783111572\n",
      "val 2.105541229248047\n"
     ]
    }
   ],
   "source": [
    "@torch.no_grad()\n",
    "def split_loss(split):\n",
    "  x, y = {\n",
    "    \"train\": (Xtr, Ytr),\n",
    "    \"val\": (Xdev, Ydev),\n",
    "    \"test\": (Xte, Yte),\n",
    "  }[split]\n",
    "  emb = C[x]\n",
    "  embcat = emb.view(emb.shape[0], -1)\n",
    "  hpreact = embcat @ W1 #+ b1\n",
    "  # hpreact = bngain * ((hpreact - hpreact.mean(0, keepdim=True)) / hpreact.std(0, keepdim=True)) + bnbias\n",
    "  hpreact = bngain * ((hpreact - bnmean_running) / bnstd_running) + bnbias\n",
    "  h = torch.tanh(hpreact)\n",
    "  logits = h @ W2 + b2\n",
    "  loss = F.cross_entropy(logits, y)\n",
    "  print(split, loss.item())\n",
    "\n",
    "split_loss('train')\n",
    "split_loss('val')"
   ]
  },
  {
   "cell_type": "code",
   "execution_count": null,
   "id": "39d077cb-dd0b-4109-b697-3318f85d5c1b",
   "metadata": {},
   "outputs": [],
   "source": [
    "#Fix softmax\n",
    "train 2.068589687347412\n",
    "val 2.1363606452941895\n",
    "\n",
    "# Fix tanh not activating neurons\n",
    "train 2.037578821182251\n",
    "val 2.1028523445129395\n",
    "\n",
    "# Kaiming Init for tanh\n",
    "train 2.0364372730255127\n",
    "val 2.106147613525\n",
    "\n",
    "# add batch norm\n",
    "train 2.067490816116333\n",
    "val 2.107379198074341"
   ]
  },
  {
   "cell_type": "code",
   "execution_count": null,
   "id": "376ec1bc-6668-4fa6-9530-6940e180fcd8",
   "metadata": {},
   "outputs": [
    {
     "name": "stdout",
     "output_type": "stream",
     "text": [
      "carmaizaan.\n",
      "havih.\n",
      "jari.\n",
      "reet.\n",
      "khalaysie.\n",
      "rahnen.\n",
      "amerynci.\n",
      "aqui.\n",
      "ner.\n",
      "kea.\n",
      "chaiiv.\n",
      "kaleigh.\n",
      "ham.\n",
      "pory.\n",
      "quint.\n",
      "shoilea.\n",
      "jadbi.\n",
      "waje.\n",
      "paijaryni.\n",
      "jaxek.\n"
     ]
    }
   ],
   "source": [
    "# sample from the model\n",
    "g = torch.Generator().manual_seed(2147483647 + 10)\n",
    "\n",
    "for _ in range(20):\n",
    "  out = []\n",
    "  context = [0] * block_size\n",
    "  while True:\n",
    "    emb = C[torch.tensor([context])]\n",
    "    h = torch.tanh(emb.view(1, -1) @ W1 + b1)\n",
    "    logits = h @ W2 + b2\n",
    "    probs = F.softmax(logits, dim=1)\n",
    "    ix = torch.multinomial(probs, num_samples=1, generator=g).item()\n",
    "    context = context[1:] + [ix]\n",
    "    out.append(ix)\n",
    "    if ix == 0:\n",
    "      break\n",
    "  print(''.join(itos[i] for i in out))"
   ]
  },
  {
   "cell_type": "code",
   "execution_count": null,
   "id": "691ff906-fc16-4da4-98ab-77d605627b6f",
   "metadata": {},
   "outputs": [],
   "source": []
  }
 ],
 "metadata": {
  "kernelspec": {
   "display_name": "Python 3 (ipykernel)",
   "language": "python",
   "name": "python3"
  }
 },
 "nbformat": 4,
 "nbformat_minor": 5
}
